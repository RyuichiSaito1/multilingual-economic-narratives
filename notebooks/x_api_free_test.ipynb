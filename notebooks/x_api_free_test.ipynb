{
  "nbformat": 4,
  "nbformat_minor": 0,
  "metadata": {
    "colab": {
      "provenance": [],
      "authorship_tag": "ABX9TyO5IFu3EW4LOoXPb5tL1g3b",
      "include_colab_link": true
    },
    "kernelspec": {
      "name": "python3",
      "display_name": "Python 3"
    },
    "language_info": {
      "name": "python"
    }
  },
  "cells": [
    {
      "cell_type": "markdown",
      "metadata": {
        "id": "view-in-github",
        "colab_type": "text"
      },
      "source": [
        "<a href=\"https://colab.research.google.com/github/RyuichiSaito1/multilingual-economic-narratives/blob/main/notebooks/x_api_free_test.ipynb\" target=\"_parent\"><img src=\"https://colab.research.google.com/assets/colab-badge.svg\" alt=\"Open In Colab\"/></a>"
      ]
    },
    {
      "cell_type": "markdown",
      "source": [
        "X API\n",
        "https://docs.x.com/x-api/introduction\n",
        "X Dashboard\n",
        "https://developer.x.com/en/portal/dashboard"
      ],
      "metadata": {
        "id": "0I-msmdUOgGx"
      }
    },
    {
      "cell_type": "code",
      "execution_count": 1,
      "metadata": {
        "id": "sBsUm3mYOS43"
      },
      "outputs": [],
      "source": [
        "#!/usr/bin/env python3\n",
        "\"\"\"\n",
        "Free tier: 100 reads/month, 500 writes/month, basic v2 endpoints\n",
        "\"\"\"\n",
        "\n",
        "import requests\n",
        "import json\n",
        "from datetime import datetime\n",
        "\n",
        "# Install requests if needed\n",
        "try:\n",
        "    import requests\n",
        "except ImportError:\n",
        "    !pip install requests"
      ]
    },
    {
      "cell_type": "code",
      "source": [
        "class SimpleXAPITester:\n",
        "\n",
        "    def __init__(self, bearer_token: str):\n",
        "        self.bearer_token = bearer_token\n",
        "        self.headers = {\"Authorization\": f\"Bearer {bearer_token}\"}\n",
        "        self.base_url = \"https://api.twitter.com/2/tweets/search/recent\"\n",
        "        self.request_count = 0\n",
        "\n",
        "    def search_tweets(self, query: str, lang: str = None, max_results: int = 10):\n",
        "\n",
        "        # Build search query with language filter if specified\n",
        "        search_query = query\n",
        "        if lang:\n",
        "            search_query += f\" lang:{lang}\"\n",
        "\n",
        "        params = {\n",
        "            \"query\": search_query,\n",
        "            \"max_results\": min(max_results, 100),\n",
        "            \"tweet.fields\": \"created_at,lang,public_metrics\"\n",
        "        }\n",
        "\n",
        "        print(f\"Search Query: '{search_query}'\")\n",
        "        if lang:\n",
        "            print(f\"Language: {lang}\")\n",
        "        print(f\"Searching...\")\n",
        "\n",
        "        try:\n",
        "            response = requests.get(self.base_url, headers=self.headers, params=params)\n",
        "            self.request_count += 1\n",
        "\n",
        "            print(f\"Status: {response.status_code}\")\n",
        "\n",
        "            if response.status_code == 200:\n",
        "                data = response.json()\n",
        "                self.display_results(data, query, lang)\n",
        "                return data\n",
        "            else:\n",
        "                print(f\"Error: {response.text}\")\n",
        "                return None\n",
        "\n",
        "        except Exception as e:\n",
        "            print(f\"Request failed: {e}\")\n",
        "            return None\n",
        "\n",
        "    def display_results(self, data, query, lang):\n",
        "\n",
        "        if \"data\" not in data or not data[\"data\"]:\n",
        "            print(\"No tweets found\")\n",
        "            return\n",
        "\n",
        "        tweets = data[\"data\"]\n",
        "        print(f\"\\nFound {len(tweets)} tweets\")\n",
        "\n",
        "        # Language breakdown\n",
        "        languages = {}\n",
        "        for tweet in tweets:\n",
        "            tweet_lang = tweet.get(\"lang\", \"unknown\")\n",
        "            languages[tweet_lang] = languages.get(tweet_lang, 0) + 1\n",
        "\n",
        "        print(f\"Languages: {languages}\")\n",
        "\n",
        "        # Show all tweets\n",
        "        print(f\"\\nAll tweets:\")\n",
        "        for i, tweet in enumerate(tweets, 1):\n",
        "            text = tweet.get(\"text\", \"\")\n",
        "            tweet_lang = tweet.get(\"lang\", \"N/A\")\n",
        "            likes = tweet.get(\"public_metrics\", {}).get(\"like_count\", 0)\n",
        "            retweets = tweet.get(\"public_metrics\", {}).get(\"retweet_count\", 0)\n",
        "            replies = tweet.get(\"public_metrics\", {}).get(\"reply_count\", 0)\n",
        "            print(f\"\\n{i}. [{tweet_lang}] {text}\")\n",
        "            print(f\"   Likes: {likes} | Retweets: {retweets} | Replies: {replies}\")\n",
        "\n",
        "        print(f\"\\nAPI requests used: {self.request_count}/100 (monthly limit)\")\n"
      ],
      "metadata": {
        "id": "LAnggVuiRsRU"
      },
      "execution_count": 29,
      "outputs": []
    },
    {
      "cell_type": "code",
      "source": [
        "def main():\n",
        "\n",
        "    BEARER_TOKEN = \"\"\n",
        "\n",
        "\n",
        "    # Initialize tester\n",
        "    tester = SimpleXAPITester(BEARER_TOKEN)\n",
        "\n",
        "    # Economic keywords search in Finnish using OR logic\n",
        "    economic_keywords_query = \"(price OR cost OR inflation OR deflation OR expensive OR cheap OR purchase OR sale)\"\n",
        "\n",
        "    tester.search_tweets(\n",
        "        query=economic_keywords_query,\n",
        "        lang=\"fi\",\n",
        "        max_results=10\n",
        "    )\n",
        "\n",
        "    print(f\"\\nTotal API requests: {tester.request_count}\")\n",
        "\n",
        "if __name__ == \"__main__\":\n",
        "    main()"
      ],
      "metadata": {
        "colab": {
          "base_uri": "https://localhost:8080/"
        },
        "id": "5XL4XTTuGjNt",
        "outputId": "b6844ae8-b4cc-44da-96f6-e03fab9e045b"
      },
      "execution_count": 33,
      "outputs": [
        {
          "output_type": "stream",
          "name": "stdout",
          "text": [
            "Search Query: '(price OR cost OR inflation OR deflation OR expensive OR cheap OR purchase OR sale) lang:fi'\n",
            "Language: fi\n",
            "Searching...\n",
            "Status: 200\n",
            "\n",
            "Found 10 tweets\n",
            "Languages: {'fi': 10}\n",
            "\n",
            "All tweets:\n",
            "\n",
            "1. [fi] @sophxpng Ñam sale paja uwu\n",
            "   Likes: 0 | Retweets: 0 | Replies: 0\n",
            "\n",
            "2. [fi] 🐸 #PepeBoost Solana Token Alert!\n",
            "\n",
            "💡 Symbol: $SAYHERNAME\n",
            "🏷️ Contract: 8ZnD3qrJsZgm3zCncJa2P94KMNjSdmoRjrHKyiM8pump\n",
            "💰 Price: 0.000265 USD\n",
            "📊 Market Cap: 265.5K\n",
            "👥 Holders: 832\n",
            "🛒 Buys: 8696 | Sells: 7086\n",
            "\n",
            "🤖 Bot: https://t.co/licB2Ra0iC\n",
            "   Likes: 0 | Retweets: 0 | Replies: 0\n",
            "\n",
            "3. [fi] @JenniferMi5057 Porter Price 937U2XUX6 qK1DqQJ1 qK1DqQJ1\n",
            "   Likes: 0 | Retweets: 0 | Replies: 0\n",
            "\n",
            "4. [fi] RT @HungLalo: 🥳🎈🎉🙌🏾🍾\n",
            "\n",
            "55K Föllowers\n",
            "55 ‰ 0FF\n",
            "5 day SALĖ\n",
            "\n",
            "🎁🎁🎁🎁🎁\n",
            "\n",
            "ft @YosepTwink https://t.co/5hVxor7Znq\n",
            "   Likes: 0 | Retweets: 73 | Replies: 0\n",
            "\n",
            "5. [fi] @ChandankryadavN @azizkavish Kapdo se pehchan krlo kon h ye kutte sale\n",
            "   Likes: 0 | Retweets: 0 | Replies: 0\n",
            "\n",
            "6. [fi] Smart Money Signal：\n",
            "token info:+++\n",
            "$PEGS \n",
            "J9kXtHaqZeygLJaqidi9MgcFsbPh9rg4V8xWBWt3wqXq \n",
            "price:0.000011 \n",
            "FDV:10.71 k\n",
            "\n",
            "more signals: https://t.co/P9YopxIxJD\n",
            "   Likes: 0 | Retweets: 0 | Replies: 0\n",
            "\n",
            "7. [fi] Smart Money Signal：\n",
            "token info:+++\n",
            "$Cam \n",
            "6trFN89vbvMKMNscN4VfXZcmq6gJ33irhkhYRVscpump \n",
            "price:0.000021 \n",
            "FDV:20.86 k\n",
            "\n",
            "more signals: https://t.co/dxGbXOZ4Mb\n",
            "   Likes: 0 | Retweets: 0 | Replies: 0\n",
            "\n",
            "8. [fi] $Carlo price action looks artificial look https://t.co/FYXKhU9xOl\n",
            "\n",
            "CA: CbSyQ5v8V5UhctXy3AMpcv2BgmLYUMgEUusVxsCYCQu2 #Carlo\n",
            "   Likes: 0 | Retweets: 0 | Replies: 0\n",
            "\n",
            "9. [fi] 🔸 token: `EMNR`\n",
            "📦 marketcap: `$119,056.72`\n",
            "📈 price_change_1m: `58.78%`\n",
            "🏹 address: `5ELHdHcVSfEaZRGWX3TwHjENvqpKPyVSSbUu1DRFpump`\n",
            "quick buy: https://t.co/4W7FHxoM5J\n",
            "   Likes: 0 | Retweets: 0 | Replies: 0\n",
            "\n",
            "10. [fi] Yamal sale UhxmlxV\n",
            "   Likes: 0 | Retweets: 0 | Replies: 0\n",
            "\n",
            "API requests used: 1/100 (monthly limit)\n",
            "\n",
            "Total API requests: 1\n"
          ]
        }
      ]
    },
    {
      "cell_type": "markdown",
      "source": [],
      "metadata": {
        "id": "VfU409pRThc8"
      }
    }
  ]
}