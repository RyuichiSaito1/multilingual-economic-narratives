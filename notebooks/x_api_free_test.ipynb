{
  "nbformat": 4,
  "nbformat_minor": 0,
  "metadata": {
    "colab": {
      "provenance": [],
      "authorship_tag": "ABX9TyPkQ2k8UOj0fbJQJmfEQqH+",
      "include_colab_link": true
    },
    "kernelspec": {
      "name": "python3",
      "display_name": "Python 3"
    },
    "language_info": {
      "name": "python"
    }
  },
  "cells": [
    {
      "cell_type": "markdown",
      "metadata": {
        "id": "view-in-github",
        "colab_type": "text"
      },
      "source": [
        "<a href=\"https://colab.research.google.com/github/RyuichiSaito1/multilingual-economic-narratives/blob/main/notebooks/x_api_free_test.ipynb\" target=\"_parent\"><img src=\"https://colab.research.google.com/assets/colab-badge.svg\" alt=\"Open In Colab\"/></a>"
      ]
    },
    {
      "cell_type": "markdown",
      "source": [
        "X API\n",
        "https://docs.x.com/x-api/introduction"
      ],
      "metadata": {
        "id": "0I-msmdUOgGx"
      }
    },
    {
      "cell_type": "code",
      "execution_count": 3,
      "metadata": {
        "id": "sBsUm3mYOS43"
      },
      "outputs": [],
      "source": [
        "#!/usr/bin/env python3\n",
        "\"\"\"\n",
        "Free tier: 100 reads/month, 500 writes/month, basic v2 endpoints\n",
        "\"\"\"\n",
        "\n",
        "import requests\n",
        "import json\n",
        "from datetime import datetime\n",
        "\n",
        "# Install requests if needed\n",
        "try:\n",
        "    import requests\n",
        "except ImportError:\n",
        "    !pip install requests"
      ]
    },
    {
      "cell_type": "code",
      "source": [
        "class SimpleXAPITester:\n",
        "\n",
        "    def __init__(self, bearer_token: str):\n",
        "        self.bearer_token = bearer_token\n",
        "        self.headers = {\"Authorization\": f\"Bearer {bearer_token}\"}\n",
        "        self.base_url = \"https://api.twitter.com/2/tweets/search/recent\"\n",
        "        self.request_count = 0\n",
        "\n",
        "    def search_tweets(self, query: str, lang: str = None, max_results: int = 10):\n",
        "\n",
        "        # Build search query with language filter if specified\n",
        "        search_query = query\n",
        "        if lang:\n",
        "            search_query += f\" lang:{lang}\"\n",
        "\n",
        "        params = {\n",
        "            \"query\": search_query,\n",
        "            \"max_results\": min(max_results, 100),\n",
        "            \"tweet.fields\": \"created_at,lang,public_metrics\"\n",
        "        }\n",
        "\n",
        "        # Add language filter as separate parameter\n",
        "        if lang:\n",
        "            params[\"lang\"] = lang\n",
        "\n",
        "        print(f\"Query: '{query}'\")\n",
        "        if lang:\n",
        "            print(f\"Language: {lang}\")\n",
        "        print(f\"Searching...\")\n",
        "\n",
        "        try:\n",
        "            response = requests.get(self.base_url, headers=self.headers, params=params)\n",
        "            self.request_count += 1\n",
        "\n",
        "            print(f\"Status: {response.status_code}\")\n",
        "\n",
        "            if response.status_code == 200:\n",
        "                data = response.json()\n",
        "                self.display_results(data, query, lang)\n",
        "                return data\n",
        "            else:\n",
        "                print(f\"Error: {response.text}\")\n",
        "                return None\n",
        "\n",
        "        except Exception as e:\n",
        "            print(f\"Request failed: {e}\")\n",
        "            return None\n",
        "\n",
        "    def display_results(self, data, query, lang):\n",
        "\n",
        "        if \"data\" not in data or not data[\"data\"]:\n",
        "            print(\"No tweets found\")\n",
        "            return\n",
        "\n",
        "        tweets = data[\"data\"]\n",
        "        print(f\"\\nFound {len(tweets)} tweets\")\n",
        "\n",
        "        # Language breakdown\n",
        "        languages = {}\n",
        "        for tweet in tweets:\n",
        "            tweet_lang = tweet.get(\"lang\", \"unknown\")\n",
        "            languages[tweet_lang] = languages.get(tweet_lang, 0) + 1\n",
        "\n",
        "        print(f\"Languages: {languages}\")\n",
        "\n",
        "        # Display ALL tweets fetched (not just a sample)\n",
        "        print(f\"\\nDisplaying ALL {len(tweets)} tweets found:\")\n",
        "\n",
        "        for i, tweet in enumerate(tweets, 1):\n",
        "            text = tweet.get(\"text\", \"\")\n",
        "            tweet_lang = tweet.get(\"lang\", \"N/A\")\n",
        "            likes = tweet.get(\"public_metrics\", {}).get(\"like_count\", 0)\n",
        "\n",
        "            print(f\"\\n{i}. [{tweet_lang}] {text[:100]}...\")\n",
        "            print(f\"   Likes: {likes}\")\n",
        "\n",
        "        print(f\"\\nAPI requests used: {self.request_count}/100 (monthly limit)\")"
      ],
      "metadata": {
        "id": "LAnggVuiRsRU"
      },
      "execution_count": 4,
      "outputs": []
    },
    {
      "cell_type": "code",
      "source": [
        "def main():\n",
        "\n",
        "    BEARER_TOKEN = \"your_bearer_token_here\"\n",
        "\n",
        "    # Initialize tester\n",
        "    tester = SimpleXAPITester(BEARER_TOKEN)\n",
        "\n",
        "    # Economic keywords search in Finnish using OR logic\n",
        "    economic_keywords_query = \"price OR cost OR inflation OR deflation OR expensive OR cheap OR purchase OR sale\"\n",
        "\n",
        "    tester.search_tweets(\n",
        "        query=economic_keywords_query,\n",
        "        lang=\"fi\",\n",
        "        max_results=30\n",
        "    )\n",
        "\n",
        "    print(f\"\\nTotal API requests: {tester.request_count}\")\n",
        "\n",
        "if __name__ == \"__main__\":\n",
        "    main()"
      ],
      "metadata": {
        "id": "QPX2cHGGaPVY"
      },
      "execution_count": null,
      "outputs": []
    },
    {
      "cell_type": "markdown",
      "source": [],
      "metadata": {
        "id": "VfU409pRThc8"
      }
    }
  ]
}